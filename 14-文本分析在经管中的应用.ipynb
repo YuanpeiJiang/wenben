{
 "cells": [
  {
   "cell_type": "markdown",
   "metadata": {},
   "source": [
    "\n",
    "\n",
    "## 分析思路\n",
    "![](img/金融经济思路.png)\n",
    "\n",
    "将文本大数据应用于经济学和金融学研究的核心挑战在于如何准确、有效率地从文本 中提取出需要的信息，并考察其对相应问题的解释或预测能力。如图一所示，令 Ψ 代表采 用的原始文本库，Y 代表要解释或者预测的经济或金融现象，要考察 Ψ 对 Y 的解释能力，\n",
    "\n",
    "\n",
    "需要经过三个步骤。\n",
    "1. 将文本库 Ψ 内所有文本转化数据矩阵 Λ;\n",
    "2. 通过计量或者 统计方法 F，将 Λ 转换成目标信息序列 V，如关注度、情绪、不确定性等指数;\n",
    "3. 用提 取出的 V 来解释或预测 Y。\n",
    "\n",
    "## 经济学\n",
    "\n",
    "- 经济政策不确定性\n",
    "- 对行业进行动态分类\n",
    "- 度量和预测经济周期\n",
    "- 度量媒体政治倾向及新闻需求\n",
    "- 政策变化指数\n",
    "等问题。\n",
    "\n",
    "## 金融学、会计\n",
    "\n",
    "- 投资者（媒体）关注度\n",
    "- 媒体情绪(语调)、管理层语调、投资者情绪\n",
    "- 新闻隐含波动率\n",
    "- 意见分歧\n",
    "- 可读性\n",
    "- 信息含量（行业信息、市场信息）\n",
    "\n",
    "\n",
    "## 管理学\n",
    "- 在线评论情感分析\n",
    "- 语言风格\n",
    "- 侦测是否盗版\n",
    "\n",
    "### Copycats vs. Original Mobile Apps\n",
    "![](img/copycat.png)\n",
    "\n",
    "### 众筹融资成功率与语言风格的说服性-基于Kickstarter的实证研究\n",
    "![](img/众筹语言风格.png)\n",
    "\n",
    ">[1]沈艳,陈赟,黄卓．文本大数据分析在经济学和金融学中的应用：一个文献综述\n",
    ">\n",
    ">[2]Loughran T, McDonald B. Textual analysis in accounting and finance: A survey[J]. Journal of Accounting Research, 2016, 54(4): 1187-1230.\n",
    ">\n",
    ">[3]Chan J T K, Zhong W. Reading China: Predicting policy change with machine learning[J]. 2018.\n",
    "> \n",
    ">[4]孟庆斌, 杨俊华, 鲁冰. 管理层讨论与分析披露的信息含量与股价崩盘风险——基于文本向量化方法的研究[J]. 中国工业经济, 2017 (12): 132-150.\n",
    ">\n",
    ">[5]王伟,陈伟,祝效国,王洪伟. 众筹融资成功率与语言风格的说服性-基于Kickstarter的实证研究.管理世界.2016;5:81-98.\n",
    ">\n",
    ">[6]Wang, Quan, Beibei Li, and Param Vir Singh. \"Copycats vs. Original Mobile Apps: A Machine Learning Copycat-Detection Method and Empirical Analysis.\" Information Systems Research 29.2 (2018): 273-291."
   ]
  },
  {
   "cell_type": "markdown",
   "metadata": {},
   "source": []
  },
  {
   "cell_type": "code",
   "execution_count": null,
   "metadata": {},
   "outputs": [],
   "source": []
  }
 ],
 "metadata": {
  "kernelspec": {
   "display_name": "Python 3",
   "language": "python",
   "name": "python3"
  },
  "language_info": {
   "codemirror_mode": {
    "name": "ipython",
    "version": 3
   },
   "file_extension": ".py",
   "mimetype": "text/x-python",
   "name": "python",
   "nbconvert_exporter": "python",
   "pygments_lexer": "ipython3",
   "version": "3.7.4"
  }
 },
 "nbformat": 4,
 "nbformat_minor": 2
}
